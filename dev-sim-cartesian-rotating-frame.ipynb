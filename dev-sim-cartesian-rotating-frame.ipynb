{
 "cells": [
  {
   "cell_type": "code",
   "execution_count": 1,
   "metadata": {},
   "outputs": [
    {
     "name": "stderr",
     "output_type": "stream",
     "text": [
      "/usr/local/lib/python3.8/dist-packages/tqdm/auto.py:22: TqdmWarning: IProgress not found. Please update jupyter and ipywidgets. See https://ipywidgets.readthedocs.io/en/stable/user_install.html\n",
      "  from .autonotebook import tqdm as notebook_tqdm\n"
     ]
    }
   ],
   "source": [
    "import math\n",
    "import numpy as np\n",
    "import pylab as plt\n",
    "plt.style.use('./matplotlib.style')\n",
    "import torch\n",
    "import torch.nn as nn\n",
    "import torch.nn.functional as F\n",
    "import skimage\n",
    "import scipy.io\n",
    "from tqdm import tqdm\n",
    "from utils import getR\n",
    "import sys\n",
    "sys.path.append('./pytorch_nufft')\n",
    "from pytorch_nufft import nufft\n",
    "from typing import Callable\n",
    "\n",
    "gyromagnetic_ratio = 42.58 # MHz / T ~ kHz / mT\n",
    "\n",
    "from typing import List, Tuple\n",
    "def gtime(seq: List[Tuple]):\n",
    "    res = []\n",
    "    t = 0\n",
    "    for (dt, n) in seq:\n",
    "        res.append(np.linspace(t, t + dt * n, n))\n",
    "        t = t + dt * n\n",
    "    return np.concatenate(res)\n",
    "\n",
    "\n",
    "def blochEquationLaboratoryStep(M: torch.Tensor, Rfunc: Callable, M0: torch.Tensor, T1: torch.Tensor, T2: torch.Tensor, dt: float, step: int):\n",
    "    # rotating\n",
    "    M = torch.matmul(Rfunc(step), M.T[:, :, None])[:, :, 0].T\n",
    "    # time relaxation\n",
    "    M[0] = M[0] * torch.exp(-dt / T2)\n",
    "    M[1] = M[1] * torch.exp(-dt / T2)\n",
    "    M[2] = M[2] * torch.exp(-dt / T1) + M0 * (1 - torch.exp(-dt / T1))\n",
    "    return M\n",
    "\n",
    "def blochEquationRotatingStep(M: torch.TensorType, Rfunc: Callable, M0: torch.Tensor, T1: torch.Tensor, T2: torch.Tensor, B0: torch.Tensor, dt: float, step: int):\n",
    "    # rotating\n",
    "    M = torch.matmul(Rfunc(step), M.T[:, :, None])[:, :, 0].T\n",
    "    # back to laboratory frame\n",
    "    # Mxy = (M[0] + 1j * M[1]) * (-2j * math.pi * B0 * gyromagnetic_ratio * dt).exp()\n",
    "    # M[0] = Mxy.real\n",
    "    # M[1] = Mxy.imag\n",
    "    # time relaxation\n",
    "    M[0] = M[0] * torch.exp(-dt / T2)\n",
    "    M[1] = M[1] * torch.exp(-dt / T2)\n",
    "    M[2] = M[2] * torch.exp(-dt / T1) + M0 * (1 - torch.exp(-dt / T1))\n",
    "    return M"
   ]
  },
  {
   "cell_type": "code",
   "execution_count": 2,
   "metadata": {},
   "outputs": [
    {
     "name": "stdout",
     "output_type": "stream",
     "text": [
      "torch.Size([256, 256, 3])\n"
     ]
    }
   ],
   "source": [
    "img = torch.from_numpy(skimage.data.astronaut() * 1.0)[::2, ::2].float()\n",
    "img *= 1. / img.max()\n",
    "print(img.shape)\n",
    "rho_map = img[:,:,0]\n",
    "t1_map = img[:,:,1] * 3000 + 1000\n",
    "t2_map = img[:,:,2] * 1000 + 1000"
   ]
  },
  {
   "cell_type": "code",
   "execution_count": 3,
   "metadata": {},
   "outputs": [
    {
     "data": {
      "text/plain": [
       "(7.339126350399249e-06, 4096.0)"
      ]
     },
     "execution_count": 3,
     "metadata": {},
     "output_type": "execute_result"
    }
   ],
   "source": [
    "dt = 1 / (2 * gyromagnetic_ratio * 1600)\n",
    "Nt = 256 / (gyromagnetic_ratio * 200 * dt)\n",
    "dt, Nt"
   ]
  },
  {
   "cell_type": "code",
   "execution_count": 6,
   "metadata": {},
   "outputs": [
    {
     "name": "stderr",
     "output_type": "stream",
     "text": [
      "100%|██████████| 15/15 [00:00<00:00, 29.09it/s]\n"
     ]
    }
   ],
   "source": [
    "num_isochromats_per_voxel = 1\n",
    "phases = torch.linspace(-.85, .85, 256)[:, None, None]\n",
    "\n",
    "T1 = t1_map.flatten().repeat(num_isochromats_per_voxel * phases.shape[0])\n",
    "T2 = t2_map.flatten().repeat(num_isochromats_per_voxel * phases.shape[0])\n",
    "M = rho_map.flatten()[None, :].repeat(3, num_isochromats_per_voxel * phases.shape[0])\n",
    "# M[:2] = 0\n",
    "\n",
    "M = torch.ones_like(M)\n",
    "M[1:] = 0\n",
    "\n",
    "M += torch.rand_like(M) * 1e-3\n",
    "M0 = M[2].clone()\n",
    "efm = []\n",
    "\n",
    "# B1 field [mT]\n",
    "x = torch.linspace(-1.0, 1.0, 256) # x [m]\n",
    "y = torch.linspace(-1.0, 1.0, 256) # y [m]\n",
    "X, Y = torch.meshgrid(x, y, indexing='ij')\n",
    "Gx = X[None, :, :] * torch.ones_like(phases)\n",
    "Gx *= 100\n",
    "Gx = Gx.flatten()[None, :].repeat(3, num_isochromats_per_voxel)\n",
    "Gx[:2] = 0\n",
    "Gy = Y[None, :, :] * phases\n",
    "Gy *= 100\n",
    "Gy = Gy.flatten()[None, :].repeat(3, num_isochromats_per_voxel)\n",
    "Gy[:2] = 0\n",
    "\n",
    "\n",
    "# B0 field [mT]\n",
    "B0 = torch.ones_like(M) * 1500\n",
    "B0[:2] = 0\n",
    "\n",
    "B0 = B0.cuda()\n",
    "Gx = Gx.cuda()\n",
    "Gy = Gy.cuda()\n",
    "M = M.cuda()\n",
    "M0 = M0.cuda()\n",
    "T1 = T1.cuda()\n",
    "T2 = T2.cuda()\n",
    "\n",
    "# relax\n",
    "dt = 1e-5       # [ms]\n",
    "# R = getR(B0, dt)\n",
    "R = getR(B0 - torch.tensor([0.,0.,1500. + 1e-3], device=B0.device)[:, None], dt)\n",
    "for i in tqdm(range(15)):\n",
    "    # M = blochEquationLaboratoryStep(M, lambda i: R, M0, T1, T2, dt, i)\n",
    "    M = blochEquationRotatingStep(M, lambda i: R, M0, T1, T2, B0[2], dt, i)\n",
    "    efm += [M.reshape(3, phases.shape[0], -1)[:, 0, 0].cpu().numpy()]\n",
    "\n",
    "efm = torch.from_numpy(np.array(efm)).float()"
   ]
  },
  {
   "cell_type": "code",
   "execution_count": 7,
   "metadata": {},
   "outputs": [
    {
     "data": {
      "image/png": "[encoded data removed]",
      "text/plain": [
       "<Figure size 640x480 with 1 Axes>"
      ]
     },
     "metadata": {},
     "output_type": "display_data"
    }
   ],
   "source": [
    "plt.plot(efm[:, 0])\n",
    "plt.plot(efm[:, 1])\n",
    "plt.plot(efm[:, 2])\n",
    "plt.show()"
   ]
  },
  {
   "cell_type": "code",
   "execution_count": null,
   "metadata": {},
   "outputs": [],
   "source": []
  }
 ],
 "metadata": {
  "kernelspec": {
   "display_name": "Python 3",
   "language": "python",
   "name": "python3"
  },
  "language_info": {
   "codemirror_mode": {
    "name": "ipython",
    "version": 3
   },
   "file_extension": ".py",
   "mimetype": "text/x-python",
   "name": "python",
   "nbconvert_exporter": "python",
   "pygments_lexer": "ipython3",
   "version": "3.8.10"
  },
  "orig_nbformat": 4
 },
 "nbformat": 4,
 "nbformat_minor": 2
}
